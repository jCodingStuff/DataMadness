{
 "cells": [
  {
   "cell_type": "markdown",
   "metadata": {},
   "source": [
    "# Exploraaaaaaaaaaation #"
   ]
  },
  {
   "cell_type": "code",
   "execution_count": 1,
   "metadata": {},
   "outputs": [],
   "source": [
    "from collections import Counter\n",
    "\n",
    "import matplotlib\n",
    "import matplotlib.pyplot as plt\n",
    "\n",
    "import pandas as pd\n",
    "import seaborn as sns\n",
    "import numpy as np\n",
    "\n",
    "import json\n",
    "from ast import literal_eval  # OP = OP, NP = P (by Articuno's Law)\n",
    "\n",
    "%matplotlib inline"
   ]
  },
  {
   "cell_type": "code",
   "execution_count": 2,
   "metadata": {},
   "outputs": [],
   "source": [
    "#datapath = 'data/'"
   ]
  },
  {
   "cell_type": "markdown",
   "metadata": {},
   "source": [
    "## Loading Recipes ##"
   ]
  },
  {
   "cell_type": "code",
   "execution_count": 3,
   "metadata": {},
   "outputs": [],
   "source": [
    "#filename = 'RAW_recipes.csv'"
   ]
  },
  {
   "cell_type": "code",
   "execution_count": 4,
   "metadata": {},
   "outputs": [],
   "source": [
    "#df_recipes = pd.read_csv(datapath + filename, index_col='id')"
   ]
  },
  {
   "cell_type": "code",
   "execution_count": 5,
   "metadata": {},
   "outputs": [],
   "source": [
    "#df_recipes['submitted'] = df_recipes['submitted'].astype('datetime64')"
   ]
  },
  {
   "cell_type": "code",
   "execution_count": 6,
   "metadata": {},
   "outputs": [],
   "source": [
    "#for col in ['nutrition', 'tags', 'ingredients', 'steps']:\n",
    "#    df_recipes[col] = df_recipes[col].apply(lambda x: literal_eval(x))"
   ]
  },
  {
   "cell_type": "code",
   "execution_count": 7,
   "metadata": {},
   "outputs": [],
   "source": [
    "#df_recipes = df_recipes[df_recipes['minutes'] < 300]"
   ]
  },
  {
   "cell_type": "markdown",
   "metadata": {},
   "source": [
    "## Loading Interactions ##"
   ]
  },
  {
   "cell_type": "code",
   "execution_count": 8,
   "metadata": {},
   "outputs": [],
   "source": [
    "#filename = 'RAW_interactions.csv'"
   ]
  },
  {
   "cell_type": "code",
   "execution_count": 9,
   "metadata": {},
   "outputs": [],
   "source": [
    "#df_inter = pd.read_csv(datapath + filename)"
   ]
  },
  {
   "cell_type": "code",
   "execution_count": 10,
   "metadata": {},
   "outputs": [],
   "source": [
    "#df_inter['date'] = df_inter['date'].astype('datetime64')"
   ]
  },
  {
   "cell_type": "markdown",
   "metadata": {},
   "source": [
    "## Avg rating, n votes and std ##"
   ]
  },
  {
   "cell_type": "code",
   "execution_count": 11,
   "metadata": {},
   "outputs": [],
   "source": [
    "#data = [[i, df_sub.shape[0], df_sub.rating.mean(), df_sub.rating.std()] for i, df_sub in df_inter.groupby('recipe_id')]\n",
    "#df_inter_recipe = pd.DataFrame(data, columns=['recipe_id', 'n_votes', 'avg_rating', 'std_rating'])"
   ]
  },
  {
   "cell_type": "code",
   "execution_count": 12,
   "metadata": {},
   "outputs": [],
   "source": [
    "#df_inter_recipe = df_inter_recipe.set_index('recipe_id')"
   ]
  },
  {
   "cell_type": "code",
   "execution_count": 13,
   "metadata": {
    "scrolled": true
   },
   "outputs": [],
   "source": [
    "#df_inter_recipe"
   ]
  },
  {
   "cell_type": "code",
   "execution_count": 14,
   "metadata": {},
   "outputs": [],
   "source": [
    "#df = df_recipes.join(df_inter_recipe)\n",
    "#df.std_rating = df.std_rating.fillna(0)"
   ]
  },
  {
   "cell_type": "code",
   "execution_count": 15,
   "metadata": {
    "scrolled": true
   },
   "outputs": [],
   "source": [
    "#df"
   ]
  },
  {
   "cell_type": "code",
   "execution_count": 16,
   "metadata": {},
   "outputs": [],
   "source": [
    "#df.describe()"
   ]
  },
  {
   "cell_type": "code",
   "execution_count": 17,
   "metadata": {
    "scrolled": true
   },
   "outputs": [],
   "source": [
    "#plot = sns.pairplot(df[['minutes', 'n_steps', 'n_ingredients', 'n_votes', 'avg_rating', 'std_rating']])\n",
    "#plot.savefig('imgs/pairplot_recipes.png')"
   ]
  },
  {
   "cell_type": "code",
   "execution_count": 18,
   "metadata": {},
   "outputs": [],
   "source": [
    "#with open('data/recipes.json', 'w') as f:\n",
    "#    df.to_json(f, date_format='')"
   ]
  },
  {
   "cell_type": "code",
   "execution_count": 19,
   "metadata": {},
   "outputs": [],
   "source": [
    "df = pd.read_json('data/recipes.json')"
   ]
  },
  {
   "cell_type": "code",
   "execution_count": 20,
   "metadata": {},
   "outputs": [],
   "source": [
    "df.submitted = df.submitted.astype('datetime64')"
   ]
  },
  {
   "cell_type": "markdown",
   "metadata": {},
   "source": [
    "## Tag Analysis ##"
   ]
  },
  {
   "cell_type": "code",
   "execution_count": 21,
   "metadata": {},
   "outputs": [
    {
     "data": {
      "text/plain": [
       "array([list(['60-minutes-or-less', 'time-to-make', 'course', 'main-ingredient', 'cuisine', 'preparation', 'occasion', 'north-american', 'side-dishes', 'vegetables', 'mexican', 'easy', 'fall', 'holiday-event', 'vegetarian', 'winter', 'dietary', 'christmas', 'seasonal', 'squash']),\n",
       "       list(['30-minutes-or-less', 'time-to-make', 'course', 'main-ingredient', 'cuisine', 'preparation', 'occasion', 'north-american', 'breakfast', 'main-dish', 'pork', 'american', 'oven', 'easy', 'kid-friendly', 'pizza', 'dietary', 'northeastern-united-states', 'meat', 'equipment'])],\n",
       "      dtype=object)"
      ]
     },
     "execution_count": 21,
     "metadata": {},
     "output_type": "execute_result"
    }
   ],
   "source": [
    "df['tags'].to_numpy()[:2]"
   ]
  },
  {
   "cell_type": "code",
   "execution_count": 22,
   "metadata": {},
   "outputs": [
    {
     "data": {
      "text/plain": [
       "137739    [60-minutes-or-less, time-to-make, course, mai...\n",
       "31490     [30-minutes-or-less, time-to-make, course, mai...\n",
       "112140    [time-to-make, course, preparation, main-dish,...\n",
       "59389     [60-minutes-or-less, time-to-make, course, mai...\n",
       "44061     [weeknight, time-to-make, course, main-ingredi...\n",
       "                                ...                        \n",
       "486161    [ham, 60-minutes-or-less, time-to-make, course...\n",
       "493372    [15-minutes-or-less, time-to-make, course, pre...\n",
       "308080    [60-minutes-or-less, time-to-make, course, mai...\n",
       "298512    [30-minutes-or-less, time-to-make, course, pre...\n",
       "298509    [30-minutes-or-less, time-to-make, course, pre...\n",
       "Name: tags, Length: 221458, dtype: object"
      ]
     },
     "execution_count": 22,
     "metadata": {},
     "output_type": "execute_result"
    }
   ],
   "source": [
    "df.tags"
   ]
  },
  {
   "cell_type": "code",
   "execution_count": 23,
   "metadata": {},
   "outputs": [],
   "source": [
    "tags = [j for i in df.tags for j in i]"
   ]
  },
  {
   "cell_type": "code",
   "execution_count": 24,
   "metadata": {},
   "outputs": [],
   "source": [
    "tags_dict = Counter(tags)"
   ]
  },
  {
   "cell_type": "code",
   "execution_count": 25,
   "metadata": {
    "scrolled": true
   },
   "outputs": [
    {
     "data": {
      "text/plain": [
       "[('preparation', 220941),\n",
       " ('time-to-make', 219535),\n",
       " ('course', 208669),\n",
       " ('main-ingredient', 162196),\n",
       " ('dietary', 157973),\n",
       " ('easy', 120706),\n",
       " ('occasion', 109072),\n",
       " ('cuisine', 87211),\n",
       " ('low-in-something', 81784),\n",
       " ('60-minutes-or-less', 69988),\n",
       " ('main-dish', 66589),\n",
       " ('equipment', 64183),\n",
       " ('number-of-servings', 57100),\n",
       " ('30-minutes-or-less', 55075),\n",
       " ('vegetables', 51938),\n",
       " ('meat', 50828),\n",
       " ('taste-mood', 49644),\n",
       " ('4-hours-or-less', 49489),\n",
       " ('north-american', 46083),\n",
       " ('15-minutes-or-less', 43933),\n",
       " ('3-steps-or-less', 43131),\n",
       " ('desserts', 42003),\n",
       " ('low-sodium', 41666),\n",
       " ('low-carb', 39659),\n",
       " ('healthy', 38588),\n",
       " ('dinner-party', 35992),\n",
       " ('low-cholesterol', 35225),\n",
       " ('vegetarian', 34663),\n",
       " ('low-calorie', 34597),\n",
       " ('beginner-cook', 34091),\n",
       " ('5-ingredients-or-less', 33986),\n",
       " ('holiday-event', 33154),\n",
       " ('low-protein', 31466),\n",
       " ('inexpensive', 31325),\n",
       " ('oven', 30315),\n",
       " ('fruit', 30268),\n",
       " ('low-saturated-fat', 29870),\n",
       " ('american', 29606),\n",
       " ('eggs-dairy', 29345),\n",
       " ('pasta-rice-and-grains', 26450),\n",
       " ('side-dishes', 26277),\n",
       " ('kid-friendly', 26160),\n",
       " ('healthy-2', 25564),\n",
       " ('comfort-food', 24743),\n",
       " ('european', 23890),\n",
       " ('presentation', 23588),\n",
       " ('lunch', 23072),\n",
       " ('for-1-or-2', 22819),\n",
       " ('poultry', 22467),\n",
       " ('stove-top', 21612)]"
      ]
     },
     "execution_count": 25,
     "metadata": {},
     "output_type": "execute_result"
    }
   ],
   "source": [
    "tags_dict.most_common(50)"
   ]
  },
  {
   "cell_type": "code",
   "execution_count": 26,
   "metadata": {},
   "outputs": [
    {
     "data": {
      "text/plain": [
       "46083"
      ]
     },
     "execution_count": 26,
     "metadata": {},
     "output_type": "execute_result"
    }
   ],
   "source": [
    "tags_dict.get('north-american')  # Biased towards low quality food"
   ]
  },
  {
   "cell_type": "code",
   "execution_count": 27,
   "metadata": {},
   "outputs": [],
   "source": [
    "# We will create dummies for these tags. For some of them, we are interested in True values, for others, in False\n",
    "# healthy and healthy-2 will be combined\n",
    "custom_tags = ['vegetarian', 'healthy', 'healthy-2', 'oven', 'beginner-cook', 'inexpensive', 'desserts', 'european']"
   ]
  },
  {
   "cell_type": "code",
   "execution_count": 33,
   "metadata": {
    "scrolled": true
   },
   "outputs": [],
   "source": [
    "df_tag = df.copy()[['submitted', 'tags', 'n_votes', 'avg_rating', 'std_rating']]"
   ]
  },
  {
   "cell_type": "code",
   "execution_count": 34,
   "metadata": {},
   "outputs": [],
   "source": [
    "d_tags = df.tags.to_numpy()\n",
    "\n",
    "for tag in custom_tags:\n",
    "    dummy = np.array([tag in tags for i, tags in enumerate(d_tags)]).astype(int)\n",
    "    df_tag[tag] = dummy"
   ]
  },
  {
   "cell_type": "code",
   "execution_count": 35,
   "metadata": {},
   "outputs": [],
   "source": [
    "df_tag.healthy = df_tag.healthy.combine(df_tag['healthy-2'], func=max)\n",
    "df_tag = df_tag.drop(columns='healthy-2')"
   ]
  },
  {
   "cell_type": "code",
   "execution_count": 38,
   "metadata": {
    "scrolled": true
   },
   "outputs": [],
   "source": [
    "df_tag = df_tag[(df_tag.oven == 0) & (df_tag.desserts == 0)]\n",
    "df_tag = df_tag.drop(columns=['oven', 'desserts', 'tags'])"
   ]
  },
  {
   "cell_type": "code",
   "execution_count": 39,
   "metadata": {},
   "outputs": [
    {
     "data": {
      "text/html": [
       "<div>\n",
       "<style scoped>\n",
       "    .dataframe tbody tr th:only-of-type {\n",
       "        vertical-align: middle;\n",
       "    }\n",
       "\n",
       "    .dataframe tbody tr th {\n",
       "        vertical-align: top;\n",
       "    }\n",
       "\n",
       "    .dataframe thead th {\n",
       "        text-align: right;\n",
       "    }\n",
       "</style>\n",
       "<table border=\"1\" class=\"dataframe\">\n",
       "  <thead>\n",
       "    <tr style=\"text-align: right;\">\n",
       "      <th></th>\n",
       "      <th>submitted</th>\n",
       "      <th>n_votes</th>\n",
       "      <th>avg_rating</th>\n",
       "      <th>std_rating</th>\n",
       "      <th>vegetarian</th>\n",
       "      <th>healthy</th>\n",
       "      <th>beginner-cook</th>\n",
       "      <th>inexpensive</th>\n",
       "      <th>european</th>\n",
       "    </tr>\n",
       "  </thead>\n",
       "  <tbody>\n",
       "    <tr>\n",
       "      <th>137739</th>\n",
       "      <td>2005-09-16</td>\n",
       "      <td>3</td>\n",
       "      <td>5.0</td>\n",
       "      <td>0.0</td>\n",
       "      <td>1</td>\n",
       "      <td>0</td>\n",
       "      <td>0</td>\n",
       "      <td>0</td>\n",
       "      <td>0</td>\n",
       "    </tr>\n",
       "    <tr>\n",
       "      <th>112140</th>\n",
       "      <td>2005-02-25</td>\n",
       "      <td>1</td>\n",
       "      <td>4.0</td>\n",
       "      <td>0.0</td>\n",
       "      <td>0</td>\n",
       "      <td>0</td>\n",
       "      <td>0</td>\n",
       "      <td>0</td>\n",
       "      <td>0</td>\n",
       "    </tr>\n",
       "    <tr>\n",
       "      <th>44061</th>\n",
       "      <td>2002-10-25</td>\n",
       "      <td>1</td>\n",
       "      <td>5.0</td>\n",
       "      <td>0.0</td>\n",
       "      <td>1</td>\n",
       "      <td>0</td>\n",
       "      <td>0</td>\n",
       "      <td>0</td>\n",
       "      <td>0</td>\n",
       "    </tr>\n",
       "    <tr>\n",
       "      <th>5289</th>\n",
       "      <td>1999-12-06</td>\n",
       "      <td>2</td>\n",
       "      <td>5.0</td>\n",
       "      <td>0.0</td>\n",
       "      <td>0</td>\n",
       "      <td>0</td>\n",
       "      <td>0</td>\n",
       "      <td>0</td>\n",
       "      <td>0</td>\n",
       "    </tr>\n",
       "    <tr>\n",
       "      <th>25274</th>\n",
       "      <td>2002-04-14</td>\n",
       "      <td>1</td>\n",
       "      <td>2.0</td>\n",
       "      <td>0.0</td>\n",
       "      <td>1</td>\n",
       "      <td>0</td>\n",
       "      <td>0</td>\n",
       "      <td>0</td>\n",
       "      <td>0</td>\n",
       "    </tr>\n",
       "    <tr>\n",
       "      <th>...</th>\n",
       "      <td>...</td>\n",
       "      <td>...</td>\n",
       "      <td>...</td>\n",
       "      <td>...</td>\n",
       "      <td>...</td>\n",
       "      <td>...</td>\n",
       "      <td>...</td>\n",
       "      <td>...</td>\n",
       "      <td>...</td>\n",
       "    </tr>\n",
       "    <tr>\n",
       "      <th>357451</th>\n",
       "      <td>2009-02-23</td>\n",
       "      <td>2</td>\n",
       "      <td>5.0</td>\n",
       "      <td>0.0</td>\n",
       "      <td>0</td>\n",
       "      <td>0</td>\n",
       "      <td>1</td>\n",
       "      <td>1</td>\n",
       "      <td>0</td>\n",
       "    </tr>\n",
       "    <tr>\n",
       "      <th>188810</th>\n",
       "      <td>2006-10-03</td>\n",
       "      <td>1</td>\n",
       "      <td>3.0</td>\n",
       "      <td>0.0</td>\n",
       "      <td>0</td>\n",
       "      <td>1</td>\n",
       "      <td>0</td>\n",
       "      <td>0</td>\n",
       "      <td>0</td>\n",
       "    </tr>\n",
       "    <tr>\n",
       "      <th>486161</th>\n",
       "      <td>2012-08-29</td>\n",
       "      <td>6</td>\n",
       "      <td>5.0</td>\n",
       "      <td>0.0</td>\n",
       "      <td>0</td>\n",
       "      <td>0</td>\n",
       "      <td>0</td>\n",
       "      <td>0</td>\n",
       "      <td>0</td>\n",
       "    </tr>\n",
       "    <tr>\n",
       "      <th>493372</th>\n",
       "      <td>2013-01-09</td>\n",
       "      <td>1</td>\n",
       "      <td>5.0</td>\n",
       "      <td>0.0</td>\n",
       "      <td>1</td>\n",
       "      <td>0</td>\n",
       "      <td>0</td>\n",
       "      <td>0</td>\n",
       "      <td>0</td>\n",
       "    </tr>\n",
       "    <tr>\n",
       "      <th>308080</th>\n",
       "      <td>2008-06-07</td>\n",
       "      <td>5</td>\n",
       "      <td>5.0</td>\n",
       "      <td>0.0</td>\n",
       "      <td>0</td>\n",
       "      <td>0</td>\n",
       "      <td>0</td>\n",
       "      <td>0</td>\n",
       "      <td>0</td>\n",
       "    </tr>\n",
       "  </tbody>\n",
       "</table>\n",
       "<p>156948 rows × 9 columns</p>\n",
       "</div>"
      ],
      "text/plain": [
       "        submitted  n_votes  avg_rating  std_rating  vegetarian  healthy  \\\n",
       "137739 2005-09-16        3         5.0         0.0           1        0   \n",
       "112140 2005-02-25        1         4.0         0.0           0        0   \n",
       "44061  2002-10-25        1         5.0         0.0           1        0   \n",
       "5289   1999-12-06        2         5.0         0.0           0        0   \n",
       "25274  2002-04-14        1         2.0         0.0           1        0   \n",
       "...           ...      ...         ...         ...         ...      ...   \n",
       "357451 2009-02-23        2         5.0         0.0           0        0   \n",
       "188810 2006-10-03        1         3.0         0.0           0        1   \n",
       "486161 2012-08-29        6         5.0         0.0           0        0   \n",
       "493372 2013-01-09        1         5.0         0.0           1        0   \n",
       "308080 2008-06-07        5         5.0         0.0           0        0   \n",
       "\n",
       "        beginner-cook  inexpensive  european  \n",
       "137739              0            0         0  \n",
       "112140              0            0         0  \n",
       "44061               0            0         0  \n",
       "5289                0            0         0  \n",
       "25274               0            0         0  \n",
       "...               ...          ...       ...  \n",
       "357451              1            1         0  \n",
       "188810              0            0         0  \n",
       "486161              0            0         0  \n",
       "493372              0            0         0  \n",
       "308080              0            0         0  \n",
       "\n",
       "[156948 rows x 9 columns]"
      ]
     },
     "execution_count": 39,
     "metadata": {},
     "output_type": "execute_result"
    }
   ],
   "source": [
    "df_tag"
   ]
  },
  {
   "cell_type": "code",
   "execution_count": 41,
   "metadata": {},
   "outputs": [],
   "source": [
    "# Change dates to just represent the month\n",
    "df_tag.submitted = df_tag.submitted.astype('datetime64[M]')"
   ]
  },
  {
   "cell_type": "code",
   "execution_count": 48,
   "metadata": {},
   "outputs": [],
   "source": [
    "tags = ['vegetarian', 'healthy', 'beginner-cook', 'inexpensive', 'european']\n",
    "\n",
    "data = {tag: df_tag[df_tag[tag] == 1].submitted.value_counts() for tag in tags}"
   ]
  },
  {
   "cell_type": "code",
   "execution_count": null,
   "metadata": {},
   "outputs": [],
   "source": []
  }
 ],
 "metadata": {
  "kernelspec": {
   "display_name": "Python 3",
   "language": "python",
   "name": "python3"
  },
  "language_info": {
   "codemirror_mode": {
    "name": "ipython",
    "version": 3
   },
   "file_extension": ".py",
   "mimetype": "text/x-python",
   "name": "python",
   "nbconvert_exporter": "python",
   "pygments_lexer": "ipython3",
   "version": "3.6.10"
  }
 },
 "nbformat": 4,
 "nbformat_minor": 4
}
